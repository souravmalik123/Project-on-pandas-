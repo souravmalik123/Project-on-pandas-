{
 "cells": [
  {
   "cell_type": "code",
   "execution_count": 1,
   "id": "b28b443d",
   "metadata": {},
   "outputs": [],
   "source": [
    "import pandas as pd\n",
    "import seaborn as sns\n",
    "import matplotlib.pyplot as plt"
   ]
  },
  {
   "cell_type": "code",
   "execution_count": 2,
   "id": "fc16cb84",
   "metadata": {},
   "outputs": [],
   "source": [
    "df=pd.read_csv(\"cast.csv\")"
   ]
  },
  {
   "cell_type": "code",
   "execution_count": 3,
   "id": "19f72ef1",
   "metadata": {},
   "outputs": [
    {
     "data": {
      "text/html": [
       "<div>\n",
       "<style scoped>\n",
       "    .dataframe tbody tr th:only-of-type {\n",
       "        vertical-align: middle;\n",
       "    }\n",
       "\n",
       "    .dataframe tbody tr th {\n",
       "        vertical-align: top;\n",
       "    }\n",
       "\n",
       "    .dataframe thead th {\n",
       "        text-align: right;\n",
       "    }\n",
       "</style>\n",
       "<table border=\"1\" class=\"dataframe\">\n",
       "  <thead>\n",
       "    <tr style=\"text-align: right;\">\n",
       "      <th></th>\n",
       "      <th>title</th>\n",
       "      <th>year</th>\n",
       "      <th>name</th>\n",
       "      <th>type</th>\n",
       "      <th>character</th>\n",
       "      <th>n</th>\n",
       "    </tr>\n",
       "  </thead>\n",
       "  <tbody>\n",
       "    <tr>\n",
       "      <th>0</th>\n",
       "      <td>Closet Monster</td>\n",
       "      <td>2015</td>\n",
       "      <td>Buffy #1</td>\n",
       "      <td>actor</td>\n",
       "      <td>Buffy 4</td>\n",
       "      <td>NaN</td>\n",
       "    </tr>\n",
       "    <tr>\n",
       "      <th>1</th>\n",
       "      <td>Suuri illusioni</td>\n",
       "      <td>1985</td>\n",
       "      <td>Homo $</td>\n",
       "      <td>actor</td>\n",
       "      <td>Guests</td>\n",
       "      <td>22.0</td>\n",
       "    </tr>\n",
       "    <tr>\n",
       "      <th>2</th>\n",
       "      <td>Battle of the Sexes</td>\n",
       "      <td>2017</td>\n",
       "      <td>$hutter</td>\n",
       "      <td>actor</td>\n",
       "      <td>Bobby Riggs Fan</td>\n",
       "      <td>10.0</td>\n",
       "    </tr>\n",
       "    <tr>\n",
       "      <th>3</th>\n",
       "      <td>Secret in Their Eyes</td>\n",
       "      <td>2015</td>\n",
       "      <td>$hutter</td>\n",
       "      <td>actor</td>\n",
       "      <td>2002 Dodger Fan</td>\n",
       "      <td>NaN</td>\n",
       "    </tr>\n",
       "    <tr>\n",
       "      <th>4</th>\n",
       "      <td>Steve Jobs</td>\n",
       "      <td>2015</td>\n",
       "      <td>$hutter</td>\n",
       "      <td>actor</td>\n",
       "      <td>1988 Opera House Patron</td>\n",
       "      <td>NaN</td>\n",
       "    </tr>\n",
       "  </tbody>\n",
       "</table>\n",
       "</div>"
      ],
      "text/plain": [
       "                  title  year      name   type                character     n\n",
       "0        Closet Monster  2015  Buffy #1  actor                  Buffy 4   NaN\n",
       "1       Suuri illusioni  1985    Homo $  actor                   Guests  22.0\n",
       "2   Battle of the Sexes  2017   $hutter  actor          Bobby Riggs Fan  10.0\n",
       "3  Secret in Their Eyes  2015   $hutter  actor          2002 Dodger Fan   NaN\n",
       "4            Steve Jobs  2015   $hutter  actor  1988 Opera House Patron   NaN"
      ]
     },
     "execution_count": 3,
     "metadata": {},
     "output_type": "execute_result"
    }
   ],
   "source": [
    "df.head()"
   ]
  },
  {
   "cell_type": "markdown",
   "id": "4068a775",
   "metadata": {},
   "source": [
    " #### Create a copy of your actual data ------"
   ]
  },
  {
   "cell_type": "code",
   "execution_count": 4,
   "id": "7cf09c91",
   "metadata": {},
   "outputs": [],
   "source": [
    "df_dataset=df.copy()"
   ]
  },
  {
   "cell_type": "code",
   "execution_count": 5,
   "id": "411a5898",
   "metadata": {},
   "outputs": [
    {
     "name": "stdout",
     "output_type": "stream",
     "text": [
      "                 title  year      name   type        character     n\n",
      "0       Closet Monster  2015  Buffy #1  actor          Buffy 4   NaN\n",
      "1      Suuri illusioni  1985    Homo $  actor           Guests  22.0\n",
      "2  Battle of the Sexes  2017   $hutter  actor  Bobby Riggs Fan  10.0\n"
     ]
    }
   ],
   "source": [
    "print(df_dataset.head(3))"
   ]
  },
  {
   "cell_type": "markdown",
   "id": "342aa3d5",
   "metadata": {},
   "source": [
    "#### Basic information check"
   ]
  },
  {
   "cell_type": "code",
   "execution_count": 6,
   "id": "e4cb147d",
   "metadata": {},
   "outputs": [
    {
     "name": "stdout",
     "output_type": "stream",
     "text": [
      "(3611212, 6)\n"
     ]
    }
   ],
   "source": [
    "print(df_dataset.shape)"
   ]
  },
  {
   "cell_type": "code",
   "execution_count": 7,
   "id": "2b6f0a6b",
   "metadata": {},
   "outputs": [
    {
     "name": "stdout",
     "output_type": "stream",
     "text": [
      "title         object\n",
      "year           int64\n",
      "name          object\n",
      "type          object\n",
      "character     object\n",
      "n            float64\n",
      "dtype: object\n"
     ]
    }
   ],
   "source": [
    "print(df_dataset.dtypes)"
   ]
  },
  {
   "cell_type": "code",
   "execution_count": 8,
   "id": "276f02c6",
   "metadata": {},
   "outputs": [
    {
     "name": "stdout",
     "output_type": "stream",
     "text": [
      "<class 'pandas.core.frame.DataFrame'>\n",
      "RangeIndex: 3611212 entries, 0 to 3611211\n",
      "Data columns (total 6 columns):\n",
      " #   Column     Dtype  \n",
      "---  ------     -----  \n",
      " 0   title      object \n",
      " 1   year       int64  \n",
      " 2   name       object \n",
      " 3   type       object \n",
      " 4   character  object \n",
      " 5   n          float64\n",
      "dtypes: float64(1), int64(1), object(4)\n",
      "memory usage: 165.3+ MB\n",
      "None\n"
     ]
    }
   ],
   "source": [
    "print(df_dataset.info())"
   ]
  },
  {
   "cell_type": "code",
   "execution_count": 9,
   "id": "0acc7dea",
   "metadata": {},
   "outputs": [
    {
     "name": "stdout",
     "output_type": "stream",
     "text": [
      "title              0\n",
      "year               0\n",
      "name               0\n",
      "type               0\n",
      "character          0\n",
      "n            1379242\n",
      "dtype: int64\n"
     ]
    }
   ],
   "source": [
    "print(df_dataset.isnull().sum())"
   ]
  },
  {
   "cell_type": "markdown",
   "id": "770e507f",
   "metadata": {},
   "source": [
    " #### Fill those null values-----"
   ]
  },
  {
   "cell_type": "code",
   "execution_count": 10,
   "id": "98488d65",
   "metadata": {},
   "outputs": [],
   "source": [
    "df_dataset[\"n\"]=df_dataset[\"n\"].fillna(0)"
   ]
  },
  {
   "cell_type": "code",
   "execution_count": 11,
   "id": "2ef4b164",
   "metadata": {},
   "outputs": [
    {
     "name": "stdout",
     "output_type": "stream",
     "text": [
      "title        0\n",
      "year         0\n",
      "name         0\n",
      "type         0\n",
      "character    0\n",
      "n            0\n",
      "dtype: int64\n"
     ]
    }
   ],
   "source": [
    "print(df_dataset.isnull().sum())"
   ]
  },
  {
   "cell_type": "markdown",
   "id": "4d6e9312",
   "metadata": {},
   "source": [
    "## Q-1 How many  movies are listed in the titles dataframe?"
   ]
  },
  {
   "cell_type": "code",
   "execution_count": 12,
   "id": "d94e87a6",
   "metadata": {},
   "outputs": [
    {
     "name": "stdout",
     "output_type": "stream",
     "text": [
      "(3611212,)\n"
     ]
    }
   ],
   "source": [
    "print(df_dataset[\"title\"].shape)"
   ]
  },
  {
   "cell_type": "markdown",
   "id": "20762f27",
   "metadata": {},
   "source": [
    "### Q-2 what are the earliest two films listed in the titles dataframe?"
   ]
  },
  {
   "cell_type": "code",
   "execution_count": 13,
   "id": "485411a7",
   "metadata": {},
   "outputs": [
    {
     "name": "stdout",
     "output_type": "stream",
     "text": [
      "0     Closet Monster\n",
      "1    Suuri illusioni\n",
      "Name: title, dtype: object\n"
     ]
    }
   ],
   "source": [
    "print(df_dataset[\"title\"][0:2])"
   ]
  },
  {
   "cell_type": "markdown",
   "id": "cb475117",
   "metadata": {},
   "source": [
    "### Q-3 How many movies have the title \"Hamlet\"?"
   ]
  },
  {
   "cell_type": "code",
   "execution_count": 14,
   "id": "30b3b052",
   "metadata": {},
   "outputs": [
    {
     "name": "stdout",
     "output_type": "stream",
     "text": [
      "313\n"
     ]
    }
   ],
   "source": [
    "print((df_dataset.title==\"Hamlet\").sum())"
   ]
  },
  {
   "cell_type": "markdown",
   "id": "1041369a",
   "metadata": {},
   "source": [
    "### Q-4 How many movies are titled \"North by Northwest\"?"
   ]
  },
  {
   "cell_type": "code",
   "execution_count": 15,
   "id": "e059e8b3",
   "metadata": {},
   "outputs": [
    {
     "name": "stdout",
     "output_type": "stream",
     "text": [
      "112\n"
     ]
    }
   ],
   "source": [
    "print((df_dataset.title==\"North by Northwest\").sum())"
   ]
  },
  {
   "cell_type": "markdown",
   "id": "6261cba9",
   "metadata": {},
   "source": [
    "### Q-5  When was the first movie titled \"Hamlet\" made?"
   ]
  },
  {
   "cell_type": "code",
   "execution_count": 16,
   "id": "aa50be2f",
   "metadata": {},
   "outputs": [
    {
     "data": {
      "text/html": [
       "<div>\n",
       "<style scoped>\n",
       "    .dataframe tbody tr th:only-of-type {\n",
       "        vertical-align: middle;\n",
       "    }\n",
       "\n",
       "    .dataframe tbody tr th {\n",
       "        vertical-align: top;\n",
       "    }\n",
       "\n",
       "    .dataframe thead th {\n",
       "        text-align: right;\n",
       "    }\n",
       "</style>\n",
       "<table border=\"1\" class=\"dataframe\">\n",
       "  <thead>\n",
       "    <tr style=\"text-align: right;\">\n",
       "      <th></th>\n",
       "      <th>year</th>\n",
       "    </tr>\n",
       "  </thead>\n",
       "  <tbody>\n",
       "    <tr>\n",
       "      <th>1615</th>\n",
       "      <td>1996</td>\n",
       "    </tr>\n",
       "    <tr>\n",
       "      <th>7438</th>\n",
       "      <td>1921</td>\n",
       "    </tr>\n",
       "    <tr>\n",
       "      <th>11242</th>\n",
       "      <td>2009</td>\n",
       "    </tr>\n",
       "    <tr>\n",
       "      <th>11243</th>\n",
       "      <td>2009</td>\n",
       "    </tr>\n",
       "    <tr>\n",
       "      <th>13907</th>\n",
       "      <td>1913</td>\n",
       "    </tr>\n",
       "    <tr>\n",
       "      <th>...</th>\n",
       "      <td>...</td>\n",
       "    </tr>\n",
       "    <tr>\n",
       "      <th>3505738</th>\n",
       "      <td>1969</td>\n",
       "    </tr>\n",
       "    <tr>\n",
       "      <th>3528322</th>\n",
       "      <td>2000</td>\n",
       "    </tr>\n",
       "    <tr>\n",
       "      <th>3557773</th>\n",
       "      <td>1996</td>\n",
       "    </tr>\n",
       "    <tr>\n",
       "      <th>3562331</th>\n",
       "      <td>2015</td>\n",
       "    </tr>\n",
       "    <tr>\n",
       "      <th>3578802</th>\n",
       "      <td>1996</td>\n",
       "    </tr>\n",
       "  </tbody>\n",
       "</table>\n",
       "<p>313 rows × 1 columns</p>\n",
       "</div>"
      ],
      "text/plain": [
       "         year\n",
       "1615     1996\n",
       "7438     1921\n",
       "11242    2009\n",
       "11243    2009\n",
       "13907    1913\n",
       "...       ...\n",
       "3505738  1969\n",
       "3528322  2000\n",
       "3557773  1996\n",
       "3562331  2015\n",
       "3578802  1996\n",
       "\n",
       "[313 rows x 1 columns]"
      ]
     },
     "execution_count": 16,
     "metadata": {},
     "output_type": "execute_result"
    }
   ],
   "source": [
    "df_dataset.loc[df_dataset.title==\"Hamlet\",[\"year\"]]"
   ]
  },
  {
   "cell_type": "markdown",
   "id": "589570ad",
   "metadata": {},
   "source": [
    "### Q-6 List all of the \"Treasure Island\" movies from the earliest to most recent"
   ]
  },
  {
   "cell_type": "code",
   "execution_count": 17,
   "id": "f8f5f9a6",
   "metadata": {},
   "outputs": [
    {
     "data": {
      "text/plain": [
       "190"
      ]
     },
     "execution_count": 17,
     "metadata": {},
     "output_type": "execute_result"
    }
   ],
   "source": [
    "(df_dataset.title==\"Treasure Island\").sum()"
   ]
  },
  {
   "cell_type": "markdown",
   "id": "19801a8e",
   "metadata": {},
   "source": [
    "### Q-7 How  many movies were made in the year 1950?"
   ]
  },
  {
   "cell_type": "code",
   "execution_count": 18,
   "id": "67a58fdd",
   "metadata": {},
   "outputs": [
    {
     "name": "stdout",
     "output_type": "stream",
     "text": [
      "22006\n"
     ]
    }
   ],
   "source": [
    "print((df_dataset.year==1950).sum())"
   ]
  },
  {
   "cell_type": "markdown",
   "id": "100f6bc0",
   "metadata": {},
   "source": [
    "### Q-8 How many movies were made in the year 1960?"
   ]
  },
  {
   "cell_type": "code",
   "execution_count": 19,
   "id": "b6512946",
   "metadata": {},
   "outputs": [
    {
     "name": "stdout",
     "output_type": "stream",
     "text": [
      "18456\n"
     ]
    }
   ],
   "source": [
    "print((df_dataset.year==1960).sum())"
   ]
  },
  {
   "cell_type": "markdown",
   "id": "b34395d2",
   "metadata": {},
   "source": [
    "### Q-10 In what years has a movie title \"Batman\" been released?"
   ]
  },
  {
   "cell_type": "code",
   "execution_count": 20,
   "id": "c556a194",
   "metadata": {},
   "outputs": [
    {
     "data": {
      "text/html": [
       "<div>\n",
       "<style scoped>\n",
       "    .dataframe tbody tr th:only-of-type {\n",
       "        vertical-align: middle;\n",
       "    }\n",
       "\n",
       "    .dataframe tbody tr th {\n",
       "        vertical-align: top;\n",
       "    }\n",
       "\n",
       "    .dataframe thead th {\n",
       "        text-align: right;\n",
       "    }\n",
       "</style>\n",
       "<table border=\"1\" class=\"dataframe\">\n",
       "  <thead>\n",
       "    <tr style=\"text-align: right;\">\n",
       "      <th></th>\n",
       "      <th>year</th>\n",
       "    </tr>\n",
       "  </thead>\n",
       "  <tbody>\n",
       "    <tr>\n",
       "      <th>95672</th>\n",
       "      <td>1943</td>\n",
       "    </tr>\n",
       "    <tr>\n",
       "      <th>96186</th>\n",
       "      <td>1943</td>\n",
       "    </tr>\n",
       "    <tr>\n",
       "      <th>114034</th>\n",
       "      <td>1989</td>\n",
       "    </tr>\n",
       "    <tr>\n",
       "      <th>119476</th>\n",
       "      <td>1989</td>\n",
       "    </tr>\n",
       "    <tr>\n",
       "      <th>149767</th>\n",
       "      <td>1989</td>\n",
       "    </tr>\n",
       "    <tr>\n",
       "      <th>...</th>\n",
       "      <td>...</td>\n",
       "    </tr>\n",
       "    <tr>\n",
       "      <th>2907449</th>\n",
       "      <td>1989</td>\n",
       "    </tr>\n",
       "    <tr>\n",
       "      <th>3253550</th>\n",
       "      <td>1943</td>\n",
       "    </tr>\n",
       "    <tr>\n",
       "      <th>3343947</th>\n",
       "      <td>1989</td>\n",
       "    </tr>\n",
       "    <tr>\n",
       "      <th>3345872</th>\n",
       "      <td>1989</td>\n",
       "    </tr>\n",
       "    <tr>\n",
       "      <th>3356826</th>\n",
       "      <td>1989</td>\n",
       "    </tr>\n",
       "  </tbody>\n",
       "</table>\n",
       "<p>120 rows × 1 columns</p>\n",
       "</div>"
      ],
      "text/plain": [
       "         year\n",
       "95672    1943\n",
       "96186    1943\n",
       "114034   1989\n",
       "119476   1989\n",
       "149767   1989\n",
       "...       ...\n",
       "2907449  1989\n",
       "3253550  1943\n",
       "3343947  1989\n",
       "3345872  1989\n",
       "3356826  1989\n",
       "\n",
       "[120 rows x 1 columns]"
      ]
     },
     "execution_count": 20,
     "metadata": {},
     "output_type": "execute_result"
    }
   ],
   "source": [
    "df_dataset.loc[df_dataset.title==\"Batman\",[\"year\"]]"
   ]
  },
  {
   "cell_type": "markdown",
   "id": "f0ad8d6d",
   "metadata": {},
   "source": [
    "### Q-11 How many roles were there in the movie \"Inception\" ?"
   ]
  },
  {
   "cell_type": "code",
   "execution_count": 21,
   "id": "9d798ae9",
   "metadata": {},
   "outputs": [
    {
     "data": {
      "text/plain": [
       "character                \n",
       "Bridge Sub Con               7\n",
       "Lobby Sub Con                5\n",
       "Bar Sub Con                  5\n",
       "Airport Patron               3\n",
       "LAX Passenger                3\n",
       "Penrose Sub Con              3\n",
       "Businessman                  2\n",
       "Pedestrian                   2\n",
       "A Passer-By                  1\n",
       "Phillipa (3 years)           1\n",
       "Mombasan Cashier             1\n",
       "Mombasan Casino Staff        1\n",
       "Mombasan Gambler             1\n",
       "Nash                         1\n",
       "Old Cobb                     1\n",
       "Old Mal                      1\n",
       "Private Nurse                1\n",
       "Phillipa (5 years)           1\n",
       "Miles                        1\n",
       "Reporter                     1\n",
       "Robert Fischer               1\n",
       "Saito                        1\n",
       "Saito's Attendant            1\n",
       "Saito's Bodyguard Officer    1\n",
       "Stock Broker                 1\n",
       "Stockbroker                  1\n",
       "Street Person                1\n",
       "Tadashi                      1\n",
       "Thin Man                     1\n",
       "Mombasa Casino Cashier       1\n",
       "Lawyer                       1\n",
       "Maurice Fischer              1\n",
       "Mal                          1\n",
       "Ariadne                      1\n",
       "Arthur                       1\n",
       "Blonde                       1\n",
       "Browning                     1\n",
       "Cab Driver                   1\n",
       "Cobb                         1\n",
       "Denison                      1\n",
       "Eames                        1\n",
       "Elderly Bald Man             1\n",
       "Extra                        1\n",
       "Fischer's Driver             1\n",
       "Fischer's Jet Captain        1\n",
       "Flight Attendant             1\n",
       "French Student               1\n",
       "Hotel Guest                  1\n",
       "Immigration Officer          1\n",
       "Italian Gambler              1\n",
       "James (20 months)            1\n",
       "James (3 years)              1\n",
       "Japanese Landing Crew        1\n",
       "Japanese Security Guard      1\n",
       "Yusuf                        1\n",
       "dtype: int64"
      ]
     },
     "execution_count": 21,
     "metadata": {},
     "output_type": "execute_result"
    }
   ],
   "source": [
    "df_dataset.loc[df_dataset.title==\"Inception\",[\"character\"]].value_counts()"
   ]
  },
  {
   "cell_type": "markdown",
   "id": "8a2e3d16",
   "metadata": {},
   "source": [
    "### Q-12 How many role in the movie \"inception\" are NOT ranked by an \"n\" value?"
   ]
  },
  {
   "cell_type": "code",
   "execution_count": 22,
   "id": "142f18a3",
   "metadata": {},
   "outputs": [
    {
     "data": {
      "text/plain": [
       "n   \n",
       "0.0     26\n",
       "1.0      1\n",
       "28.0     1\n",
       "29.0     1\n",
       "30.0     1\n",
       "31.0     1\n",
       "32.0     1\n",
       "33.0     1\n",
       "34.0     1\n",
       "35.0     1\n",
       "36.0     1\n",
       "37.0     1\n",
       "38.0     1\n",
       "39.0     1\n",
       "40.0     1\n",
       "41.0     1\n",
       "42.0     1\n",
       "43.0     1\n",
       "44.0     1\n",
       "45.0     1\n",
       "46.0     1\n",
       "47.0     1\n",
       "48.0     1\n",
       "49.0     1\n",
       "50.0     1\n",
       "27.0     1\n",
       "26.0     1\n",
       "25.0     1\n",
       "12.0     1\n",
       "2.0      1\n",
       "3.0      1\n",
       "4.0      1\n",
       "5.0      1\n",
       "6.0      1\n",
       "7.0      1\n",
       "8.0      1\n",
       "9.0      1\n",
       "10.0     1\n",
       "11.0     1\n",
       "13.0     1\n",
       "24.0     1\n",
       "14.0     1\n",
       "15.0     1\n",
       "16.0     1\n",
       "17.0     1\n",
       "18.0     1\n",
       "19.0     1\n",
       "20.0     1\n",
       "21.0     1\n",
       "22.0     1\n",
       "23.0     1\n",
       "51.0     1\n",
       "dtype: int64"
      ]
     },
     "execution_count": 22,
     "metadata": {},
     "output_type": "execute_result"
    }
   ],
   "source": [
    "df_dataset.loc[df_dataset.title==\"Inception\",[\"n\"]].value_counts()"
   ]
  },
  {
   "cell_type": "markdown",
   "id": "bb9af4dc",
   "metadata": {},
   "source": [
    "### Q-14 Display the cast of \"North by Northwest\" in their correct \"n\"-value order,ignoring roles that did not earn a numeric \"n\" value"
   ]
  },
  {
   "cell_type": "code",
   "execution_count": 23,
   "id": "f78dfdaa",
   "metadata": {},
   "outputs": [
    {
     "data": {
      "text/plain": [
       "n   \n",
       "0.0     96\n",
       "9.0      1\n",
       "15.0     1\n",
       "14.0     1\n",
       "13.0     1\n",
       "12.0     1\n",
       "11.0     1\n",
       "10.0     1\n",
       "8.0      1\n",
       "1.0      1\n",
       "7.0      1\n",
       "6.0      1\n",
       "5.0      1\n",
       "4.0      1\n",
       "3.0      1\n",
       "2.0      1\n",
       "16.0     1\n",
       "dtype: int64"
      ]
     },
     "execution_count": 23,
     "metadata": {},
     "output_type": "execute_result"
    }
   ],
   "source": [
    " df_dataset.loc[df_dataset.title==\"North by Northwest\",[\"n\"]].value_counts()"
   ]
  },
  {
   "cell_type": "markdown",
   "id": "7cefcfc2",
   "metadata": {},
   "source": [
    "### Q-15  Display the entire cast, in \"n\"-order,of the 1972 film \"Sleuth\" ?"
   ]
  },
  {
   "cell_type": "code",
   "execution_count": 24,
   "id": "bfc1b53a",
   "metadata": {},
   "outputs": [
    {
     "data": {
      "text/plain": [
       "n    year\n",
       "0.0  2007    4\n",
       "1.0  1972    1\n",
       "     2007    1\n",
       "2.0  1972    1\n",
       "     2007    1\n",
       "3.0  1972    1\n",
       "     2007    1\n",
       "4.0  1972    1\n",
       "5.0  1972    1\n",
       "6.0  1972    1\n",
       "dtype: int64"
      ]
     },
     "execution_count": 24,
     "metadata": {},
     "output_type": "execute_result"
    }
   ],
   "source": [
    "df_dataset.loc[df_dataset.title==\"Sleuth\",[\"n\",\"year\"]].value_counts()"
   ]
  },
  {
   "cell_type": "markdown",
   "id": "9144b695",
   "metadata": {},
   "source": [
    "### Q-16 Now display the entire cast, in \"n\"-order, of the 2007 version of \"Sleuth\" ?"
   ]
  },
  {
   "cell_type": "code",
   "execution_count": 25,
   "id": "28ea5904",
   "metadata": {},
   "outputs": [
    {
     "data": {
      "text/html": [
       "<div>\n",
       "<style scoped>\n",
       "    .dataframe tbody tr th:only-of-type {\n",
       "        vertical-align: middle;\n",
       "    }\n",
       "\n",
       "    .dataframe tbody tr th {\n",
       "        vertical-align: top;\n",
       "    }\n",
       "\n",
       "    .dataframe thead th {\n",
       "        text-align: right;\n",
       "    }\n",
       "</style>\n",
       "<table border=\"1\" class=\"dataframe\">\n",
       "  <thead>\n",
       "    <tr style=\"text-align: right;\">\n",
       "      <th></th>\n",
       "      <th>year</th>\n",
       "      <th>n</th>\n",
       "    </tr>\n",
       "  </thead>\n",
       "  <tbody>\n",
       "    <tr>\n",
       "      <th>250297</th>\n",
       "      <td>2007</td>\n",
       "      <td>0.0</td>\n",
       "    </tr>\n",
       "    <tr>\n",
       "      <th>314691</th>\n",
       "      <td>1972</td>\n",
       "      <td>2.0</td>\n",
       "    </tr>\n",
       "    <tr>\n",
       "      <th>314692</th>\n",
       "      <td>2007</td>\n",
       "      <td>1.0</td>\n",
       "    </tr>\n",
       "    <tr>\n",
       "      <th>360365</th>\n",
       "      <td>1972</td>\n",
       "      <td>3.0</td>\n",
       "    </tr>\n",
       "    <tr>\n",
       "      <th>360366</th>\n",
       "      <td>2007</td>\n",
       "      <td>0.0</td>\n",
       "    </tr>\n",
       "    <tr>\n",
       "      <th>1246855</th>\n",
       "      <td>2007</td>\n",
       "      <td>2.0</td>\n",
       "    </tr>\n",
       "    <tr>\n",
       "      <th>1396572</th>\n",
       "      <td>1972</td>\n",
       "      <td>6.0</td>\n",
       "    </tr>\n",
       "    <tr>\n",
       "      <th>1412647</th>\n",
       "      <td>1972</td>\n",
       "      <td>4.0</td>\n",
       "    </tr>\n",
       "    <tr>\n",
       "      <th>1644328</th>\n",
       "      <td>1972</td>\n",
       "      <td>1.0</td>\n",
       "    </tr>\n",
       "    <tr>\n",
       "      <th>1741124</th>\n",
       "      <td>2007</td>\n",
       "      <td>3.0</td>\n",
       "    </tr>\n",
       "    <tr>\n",
       "      <th>2619277</th>\n",
       "      <td>2007</td>\n",
       "      <td>0.0</td>\n",
       "    </tr>\n",
       "    <tr>\n",
       "      <th>2619278</th>\n",
       "      <td>1972</td>\n",
       "      <td>5.0</td>\n",
       "    </tr>\n",
       "    <tr>\n",
       "      <th>3223502</th>\n",
       "      <td>2007</td>\n",
       "      <td>0.0</td>\n",
       "    </tr>\n",
       "  </tbody>\n",
       "</table>\n",
       "</div>"
      ],
      "text/plain": [
       "         year    n\n",
       "250297   2007  0.0\n",
       "314691   1972  2.0\n",
       "314692   2007  1.0\n",
       "360365   1972  3.0\n",
       "360366   2007  0.0\n",
       "1246855  2007  2.0\n",
       "1396572  1972  6.0\n",
       "1412647  1972  4.0\n",
       "1644328  1972  1.0\n",
       "1741124  2007  3.0\n",
       "2619277  2007  0.0\n",
       "2619278  1972  5.0\n",
       "3223502  2007  0.0"
      ]
     },
     "execution_count": 25,
     "metadata": {},
     "output_type": "execute_result"
    }
   ],
   "source": [
    "df_dataset.loc[df_dataset.title==\"Sleuth\",[\"year\",\"n\"]]"
   ]
  },
  {
   "cell_type": "markdown",
   "id": "b9bd9a21",
   "metadata": {},
   "source": [
    "### Q-17 How many roles were credited in the silent 1921 version of Hamlet?"
   ]
  },
  {
   "cell_type": "code",
   "execution_count": 26,
   "id": "6a1d5ab8",
   "metadata": {},
   "outputs": [
    {
     "data": {
      "text/html": [
       "<div>\n",
       "<style scoped>\n",
       "    .dataframe tbody tr th:only-of-type {\n",
       "        vertical-align: middle;\n",
       "    }\n",
       "\n",
       "    .dataframe tbody tr th {\n",
       "        vertical-align: top;\n",
       "    }\n",
       "\n",
       "    .dataframe thead th {\n",
       "        text-align: right;\n",
       "    }\n",
       "</style>\n",
       "<table border=\"1\" class=\"dataframe\">\n",
       "  <thead>\n",
       "    <tr style=\"text-align: right;\">\n",
       "      <th></th>\n",
       "      <th>character</th>\n",
       "      <th>year</th>\n",
       "      <th>name</th>\n",
       "    </tr>\n",
       "  </thead>\n",
       "  <tbody>\n",
       "    <tr>\n",
       "      <th>1615</th>\n",
       "      <td>Attendant to Claudius</td>\n",
       "      <td>1996</td>\n",
       "      <td>Riz Abbasi</td>\n",
       "    </tr>\n",
       "    <tr>\n",
       "      <th>7438</th>\n",
       "      <td>Fortinbras,</td>\n",
       "      <td>1921</td>\n",
       "      <td>Fritz Achterberg</td>\n",
       "    </tr>\n",
       "    <tr>\n",
       "      <th>11242</th>\n",
       "      <td>Laertes</td>\n",
       "      <td>2009</td>\n",
       "      <td>Hayden Adams</td>\n",
       "    </tr>\n",
       "    <tr>\n",
       "      <th>11243</th>\n",
       "      <td>Player</td>\n",
       "      <td>2009</td>\n",
       "      <td>Hayden Adams</td>\n",
       "    </tr>\n",
       "    <tr>\n",
       "      <th>13907</th>\n",
       "      <td>Reynaldo</td>\n",
       "      <td>1913</td>\n",
       "      <td>Eric Adeney</td>\n",
       "    </tr>\n",
       "    <tr>\n",
       "      <th>...</th>\n",
       "      <td>...</td>\n",
       "      <td>...</td>\n",
       "      <td>...</td>\n",
       "    </tr>\n",
       "    <tr>\n",
       "      <th>3505738</th>\n",
       "      <td>Court lady</td>\n",
       "      <td>1969</td>\n",
       "      <td>Jennifer Tudor</td>\n",
       "    </tr>\n",
       "    <tr>\n",
       "      <th>3528322</th>\n",
       "      <td>Gertrude</td>\n",
       "      <td>2000</td>\n",
       "      <td>Diane Venora</td>\n",
       "    </tr>\n",
       "    <tr>\n",
       "      <th>3557773</th>\n",
       "      <td>Second Player</td>\n",
       "      <td>1996</td>\n",
       "      <td>Perdita Weeks</td>\n",
       "    </tr>\n",
       "    <tr>\n",
       "      <th>3562331</th>\n",
       "      <td>Ophelia</td>\n",
       "      <td>2015</td>\n",
       "      <td>Katie (II) West</td>\n",
       "    </tr>\n",
       "    <tr>\n",
       "      <th>3578802</th>\n",
       "      <td>Ophelia</td>\n",
       "      <td>1996</td>\n",
       "      <td>Kate Winslet</td>\n",
       "    </tr>\n",
       "  </tbody>\n",
       "</table>\n",
       "<p>313 rows × 3 columns</p>\n",
       "</div>"
      ],
      "text/plain": [
       "                     character  year              name\n",
       "1615     Attendant to Claudius  1996        Riz Abbasi\n",
       "7438               Fortinbras,  1921  Fritz Achterberg\n",
       "11242                  Laertes  2009      Hayden Adams\n",
       "11243                   Player  2009      Hayden Adams\n",
       "13907                 Reynaldo  1913       Eric Adeney\n",
       "...                        ...   ...               ...\n",
       "3505738             Court lady  1969    Jennifer Tudor\n",
       "3528322               Gertrude  2000      Diane Venora\n",
       "3557773          Second Player  1996     Perdita Weeks\n",
       "3562331                Ophelia  2015   Katie (II) West\n",
       "3578802                Ophelia  1996      Kate Winslet\n",
       "\n",
       "[313 rows x 3 columns]"
      ]
     },
     "execution_count": 26,
     "metadata": {},
     "output_type": "execute_result"
    }
   ],
   "source": [
    "df_dataset.loc[df_dataset.title==\"Hamlet\",[\"character\",\"year\",\"name\"]]"
   ]
  },
  {
   "cell_type": "markdown",
   "id": "38fe2a64",
   "metadata": {},
   "source": [
    "### Q-18 How many roles were credited in Branagh's 1996 Hamlet ?"
   ]
  },
  {
   "cell_type": "code",
   "execution_count": 32,
   "id": "ebee9c7f",
   "metadata": {},
   "outputs": [
    {
     "data": {
      "text/plain": [
       "year  character               \n",
       "2000  Special Guest Appearance    16\n",
       "1990  The Players                  8\n",
       "1948  Extra                        4\n",
       "1996  Attendant to Claudius        3\n",
       "      Attendant to Gertrude        3\n",
       "                                  ..\n",
       "1969  Francisco                    1\n",
       "      Gertrude                     1\n",
       "      Gravedigger                  1\n",
       "      Guildenstern                 1\n",
       "2015  Rosencrantz                  1\n",
       "Length: 280, dtype: int64"
      ]
     },
     "execution_count": 32,
     "metadata": {},
     "output_type": "execute_result"
    }
   ],
   "source": [
    "df_dataset.loc[df_dataset.title==\"Hamlet\",[\"year\",\"character\"]].value_counts()"
   ]
  },
  {
   "cell_type": "markdown",
   "id": "9aa7525e",
   "metadata": {},
   "source": [
    "### Q-19 How many people have played an \"ophelia\" ?"
   ]
  },
  {
   "cell_type": "code",
   "execution_count": 47,
   "id": "77d8545e",
   "metadata": {},
   "outputs": [
    {
     "data": {
      "text/plain": [
       "0"
      ]
     },
     "execution_count": 47,
     "metadata": {},
     "output_type": "execute_result"
    }
   ],
   "source": [
    "(df_dataset.character==\"ophelia\").sum()"
   ]
  },
  {
   "cell_type": "markdown",
   "id": "9672099b",
   "metadata": {},
   "source": [
    "### Q-20 How many people have played a role called \"The Dude\" ?"
   ]
  },
  {
   "cell_type": "code",
   "execution_count": 46,
   "id": "807c73fd",
   "metadata": {},
   "outputs": [
    {
     "data": {
      "text/plain": [
       "18"
      ]
     },
     "execution_count": 46,
     "metadata": {},
     "output_type": "execute_result"
    }
   ],
   "source": [
    "(df_dataset.character==\"The Dude\").sum()"
   ]
  },
  {
   "cell_type": "markdown",
   "id": "dc66918f",
   "metadata": {},
   "source": [
    "### Q-21 How many people have played a role called \"The Stranger\" ?"
   ]
  },
  {
   "cell_type": "code",
   "execution_count": 48,
   "id": "e19318e7",
   "metadata": {},
   "outputs": [
    {
     "data": {
      "text/plain": [
       "208"
      ]
     },
     "execution_count": 48,
     "metadata": {},
     "output_type": "execute_result"
    }
   ],
   "source": [
    "(df_dataset.character==\"The Stranger\").sum()"
   ]
  },
  {
   "cell_type": "markdown",
   "id": "f7de6138",
   "metadata": {},
   "source": [
    "### Q-22 How many roles has Sidney poitier played throughout his career ?"
   ]
  },
  {
   "cell_type": "code",
   "execution_count": 50,
   "id": "35f3b791",
   "metadata": {},
   "outputs": [
    {
     "name": "stdout",
     "output_type": "stream",
     "text": [
      "0\n"
     ]
    }
   ],
   "source": [
    "print((df_dataset.name==\"Sidney poitier\").sum())"
   ]
  },
  {
   "cell_type": "markdown",
   "id": "5511e614",
   "metadata": {},
   "source": [
    "### Q-23  How many roles has Judi Dench played ?"
   ]
  },
  {
   "cell_type": "code",
   "execution_count": 51,
   "id": "267a1fd5",
   "metadata": {},
   "outputs": [
    {
     "name": "stdout",
     "output_type": "stream",
     "text": [
      "55\n"
     ]
    }
   ],
   "source": [
    "print((df_dataset.name==\"Judi Dench\").sum())"
   ]
  },
  {
   "cell_type": "markdown",
   "id": "179a330b",
   "metadata": {},
   "source": [
    "### Q-26 How many roles were available for actors in the 1950s ?"
   ]
  },
  {
   "cell_type": "code",
   "execution_count": 55,
   "id": "2b1077cc",
   "metadata": {},
   "outputs": [
    {
     "data": {
      "text/plain": [
       "(22006, 1)"
      ]
     },
     "execution_count": 55,
     "metadata": {},
     "output_type": "execute_result"
    }
   ],
   "source": [
    "df_dataset.loc[df_dataset.year==1950,[\"character\"]].shape"
   ]
  },
  {
   "cell_type": "code",
   "execution_count": null,
   "id": "44f62e6f",
   "metadata": {},
   "outputs": [],
   "source": []
  }
 ],
 "metadata": {
  "kernelspec": {
   "display_name": "Python 3 (ipykernel)",
   "language": "python",
   "name": "python3"
  },
  "language_info": {
   "codemirror_mode": {
    "name": "ipython",
    "version": 3
   },
   "file_extension": ".py",
   "mimetype": "text/x-python",
   "name": "python",
   "nbconvert_exporter": "python",
   "pygments_lexer": "ipython3",
   "version": "3.11.4"
  }
 },
 "nbformat": 4,
 "nbformat_minor": 5
}
